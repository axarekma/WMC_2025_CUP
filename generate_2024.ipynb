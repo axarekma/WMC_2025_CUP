{
 "cells": [
  {
   "cell_type": "code",
   "execution_count": 1,
   "metadata": {
    "ExecuteTime": {
     "end_time": "2023-08-25T08:57:11.592680Z",
     "start_time": "2023-08-25T08:57:04.905609Z"
    }
   },
   "outputs": [],
   "source": [
    "%load_ext autoreload\n",
    "%autoreload 2\n"
   ]
  },
  {
   "cell_type": "code",
   "execution_count": 2,
   "metadata": {},
   "outputs": [
    {
     "name": "stdout",
     "output_type": "stream",
     "text": [
      "Found 97 players.\n"
     ]
    }
   ],
   "source": [
    "from conf_2024 import URL, LANES,RANK_W,RANK_M\n",
    "from mc_cup import TournamentBracket,BamseScraper, Cup16, Cup32,CupResult, export32, export16\n",
    "data = BamseScraper(URL)\n"
   ]
  },
  {
   "cell_type": "code",
   "execution_count": 3,
   "metadata": {},
   "outputs": [
    {
     "name": "stdout",
     "output_type": "stream",
     "text": [
      "Sarah Schumacher Silvia Bandera F4\n",
      "Retrieving data for Sarah Schumacher\n",
      "Retrieving data for Silvia Bandera\n",
      "Alva Kvarnström Jasmin Bothmann F6\n",
      "Retrieving data for Alva Kvarnström\n",
      "Retrieving data for Jasmin Bothmann\n",
      "Karin Olsson Mia Vuorihovi F8\n",
      "Retrieving data for Karin Olsson\n",
      "Retrieving data for Mia Vuorihovi\n",
      "Marielle Svensson Martina Maderová F10\n",
      "Retrieving data for Marielle Svensson\n",
      "Retrieving data for Martina Maderová\n",
      "Stefanie Blendermann Kristyna Palánová F12\n",
      "Retrieving data for Stefanie Blendermann\n",
      "Retrieving data for Kristyna Palánová\n",
      "Anna Bandera Martina Saletta F13\n",
      "Retrieving data for Anna Bandera\n",
      "Retrieving data for Martina Saletta\n",
      "Julia Sjöberg Lucie Indráková F15\n",
      "Retrieving data for Julia Sjöberg\n",
      "Retrieving data for Lucie Indráková\n",
      "Vanessa Peuker Mirva Juhola F17\n",
      "Retrieving data for Vanessa Peuker\n",
      "Retrieving data for Mirva Juhola\n",
      "Sarah Schumacher Jasmin Bothmann F1\n",
      "Karin Olsson Marielle Svensson F6\n",
      "Stefanie Blendermann Martina Saletta F10\n",
      "Julia Sjöberg Vanessa Peuker F13\n",
      "Sarah Schumacher Karin Olsson E1\n",
      "Stefanie Blendermann Julia Sjöberg E1\n",
      "Karin Olsson Stefanie Blendermann E1\n",
      "Sarah Schumacher Julia Sjöberg E1\n"
     ]
    }
   ],
   "source": [
    "cupW = Cup16(RANK_W, data, LANES)\n",
    "# Set Results here\n",
    "cupW.set('G1', (5,1))\n",
    "cupW.set('G2', (3,4))\n",
    "cupW.set('G3', (5.1,5))\n",
    "cupW.set('G4', (5,3))\n",
    "cupW.set('G5', (5,2))\n",
    "cupW.set('G6', (3,5))\n",
    "cupW.set('G7', (6,2))\n",
    "cupW.set('G8', (5,1))\n",
    "\n",
    "cupW.set('G9', (4.1,4))\n",
    "cupW.set('G10', (5,3))\n",
    "cupW.set('G11', (6,3))\n",
    "cupW.set('G12', (6,4))\n",
    "\n",
    "cupW.set('SF1', (5,4))\n",
    "cupW.set('SF2', (4,7))\n",
    "cupW.set('Bronze', (2,2.1))\n",
    "cupW.set('Final', (4,3))\n",
    "\n",
    "cupW.run()\n",
    "\n"
   ]
  },
  {
   "cell_type": "code",
   "execution_count": 4,
   "metadata": {},
   "outputs": [
    {
     "name": "stdout",
     "output_type": "stream",
     "text": [
      "Yannick Müller Paolo Porta F4\n",
      "Retrieving data for Yannick Müller\n",
      "Retrieving data for Paolo Porta\n",
      "Beat Wartenweiler Lukas Neumann F6\n",
      "Retrieving data for Beat Wartenweiler\n",
      "Retrieving data for Lukas Neumann\n",
      "Karel jr. Molnár Erik Fause Hovind F8\n",
      "Retrieving data for Karel jr. Molnár\n",
      "Retrieving data for Erik Fause Hovind\n",
      "Sebastian Piekorz Zdeněk Majkus F10\n",
      "Retrieving data for Sebastian Piekorz\n",
      "Retrieving data for Zdeněk Majkus\n",
      "Fredrik Persson Maxime Bugnion F12\n",
      "Retrieving data for Fredrik Persson\n",
      "Retrieving data for Maxime Bugnion\n",
      "Daniel Moser Ondřej Škaloud F13\n",
      "Retrieving data for Daniel Moser\n",
      "Retrieving data for Ondřej Škaloud\n",
      "Erik Nilsson Daniel Brtevník F15\n",
      "Retrieving data for Erik Nilsson\n",
      "Retrieving data for Daniel Brtevník\n",
      "Alexander Princis Kevin Feuchtl F17\n",
      "Retrieving data for Alexander Princis\n",
      "Retrieving data for Kevin Feuchtl\n",
      "Martin Ječný Marcus I Andersson E1\n",
      "Retrieving data for Martin Ječný\n",
      "Retrieving data for Marcus I Andersson\n",
      "Marián Straško Marek Smejkal E3\n",
      "Retrieving data for Marián Straško\n",
      "Retrieving data for Marek Smejkal\n",
      "Tobias Schwarz Simon Junker E4\n",
      "Retrieving data for Tobias Schwarz\n",
      "Retrieving data for Simon Junker\n",
      "Marvin Hauri Julian Weibold E5\n",
      "Retrieving data for Marvin Hauri\n",
      "Retrieving data for Julian Weibold\n",
      "Lauro Klöckener Aapo Siurola E7\n",
      "Retrieving data for Lauro Klöckener\n",
      "Retrieving data for Aapo Siurola\n",
      "Amir El Quachani Sebastian Heine E13\n",
      "Retrieving data for Amir El Quachani\n",
      "Retrieving data for Sebastian Heine\n",
      "Marco Broggi Andreas Schneider E14\n",
      "Retrieving data for Marco Broggi\n",
      "Retrieving data for Andreas Schneider\n",
      "Kenny Marc Schmeckenbecher Youri Bottenberg E16\n",
      "Retrieving data for Kenny Marc Schmeckenbecher\n",
      "Retrieving data for Youri Bottenberg\n",
      "Yannick Müller Beat Wartenweiler E1\n",
      "Erik Fause Hovind Sebastian Piekorz E3\n",
      "Maxime Bugnion Daniel Moser E4\n",
      "Daniel Brtevník Alexander Princis E5\n",
      "Martin Ječný Marek Smejkal E7\n",
      "Tobias Schwarz Marvin Hauri E13\n",
      "Lauro Klöckener Amir El Quachani E14\n",
      "Andreas Schneider Kenny Marc Schmeckenbecher E16\n",
      "Yannick Müller Sebastian Piekorz E1\n",
      "Daniel Moser Alexander Princis E4\n",
      "Marek Smejkal Marvin Hauri E7\n",
      "Lauro Klöckener Kenny Marc Schmeckenbecher E14\n",
      "Yannick Müller Daniel Moser E1\n",
      "Marek Smejkal Kenny Marc Schmeckenbecher E1\n",
      "Daniel Moser Marek Smejkal E1\n",
      "Yannick Müller Marek Smejkal E1\n"
     ]
    }
   ],
   "source": [
    "cupM = Cup32(RANK_M, data, LANES)\n",
    "# Set Results here\n",
    "cupM.set('G1', (5,4))\n",
    "cupM.set('G2', (6,3))\n",
    "cupM.set('G3', (4,6))\n",
    "cupM.set('G4', (3,1))\n",
    "cupM.set('G5', (3,6))\n",
    "cupM.set('G6', (5,3))\n",
    "cupM.set('G7', (4,6))\n",
    "cupM.set('G8', (3,2))\n",
    "cupM.set('G9', (6,5))\n",
    "cupM.set('G10', (1,6))\n",
    "cupM.set('G11', (6,2))\n",
    "cupM.set('G12', (7,2))\n",
    "cupM.set('G13', (4,3))\n",
    "cupM.set('G14', (6,4))\n",
    "cupM.set('G15', (4,5))\n",
    "cupM.set('G16', (5,4))\n",
    "\n",
    "cupM.set('G17', (6,2))\n",
    "cupM.set('G18', (3,4))\n",
    "cupM.set('G19', (3,6))\n",
    "cupM.set('G20', (3,5))\n",
    "cupM.set('G21', (1,7))\n",
    "cupM.set('G22', (2,4))\n",
    "cupM.set('G23', (7,4))\n",
    "cupM.set('G24', (5,6))\n",
    "\n",
    "cupM.set('QF1', (4.1,4))\n",
    "cupM.set('QF2', (5.1,5))\n",
    "cupM.set('QF3', (4,1))\n",
    "cupM.set('QF4', (2,5))\n",
    "\n",
    "cupM.set('SF1', (7,2))\n",
    "cupM.set('SF2', (6,5))\n",
    "cupM.set('Bronze', (6,2))\n",
    "cupM.set('Final', (5,5.1))\n",
    "\n",
    "cupM.run()"
   ]
  },
  {
   "cell_type": "code",
   "execution_count": null,
   "metadata": {},
   "outputs": [],
   "source": [
    "from mc_cup.html_utils import build_result_page\n",
    "table_W = export16(cupW)\n",
    "table_M = export32(cupM)\n",
    "build_result_page('CUP 2024', 'Placeholder posterior results of 2024', table_W, table_M,'index.html')"
   ]
  }
 ],
 "metadata": {
  "anaconda-cloud": {},
  "kernelspec": {
   "display_name": "base",
   "language": "python",
   "name": "python3"
  },
  "language_info": {
   "codemirror_mode": {
    "name": "ipython",
    "version": 3
   },
   "file_extension": ".py",
   "mimetype": "text/x-python",
   "name": "python",
   "nbconvert_exporter": "python",
   "pygments_lexer": "ipython3",
   "version": "3.10.8"
  }
 },
 "nbformat": 4,
 "nbformat_minor": 2
}
